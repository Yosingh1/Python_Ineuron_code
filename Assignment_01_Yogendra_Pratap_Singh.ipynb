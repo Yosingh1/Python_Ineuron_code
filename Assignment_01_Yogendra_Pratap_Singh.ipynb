{
  "nbformat": 4,
  "nbformat_minor": 0,
  "metadata": {
    "colab": {
      "provenance": [],
      "authorship_tag": "ABX9TyPJALE+nGhZ6Ny6JKiWF8c+",
      "include_colab_link": true
    },
    "kernelspec": {
      "name": "python3",
      "display_name": "Python 3"
    },
    "language_info": {
      "name": "python"
    },
    "accelerator": "GPU"
  },
  "cells": [
    {
      "cell_type": "markdown",
      "metadata": {
        "id": "view-in-github",
        "colab_type": "text"
      },
      "source": [
        "<a href=\"https://colab.research.google.com/github/Yosingh1/Python_Ineuron_code/blob/main/Assignment_01_Yogendra_Pratap_Singh.ipynb\" target=\"_parent\"><img src=\"https://colab.research.google.com/assets/colab-badge.svg\" alt=\"Open In Colab\"/></a>"
      ]
    },
    {
      "cell_type": "markdown",
      "source": [
        "# ASSIGNMENTS - NOT compulsory but usefull!!\n",
        "# I am not at loss if you don't submit\n",
        "## send the mail to \n",
        "## send it before 0000 hrs IST | 12 AM tonight\n",
        "## Special cases respond atleast before 1200 hrs IST tomorrow i.e Monday\n",
        "\n",
        "TO: query@ineuron.ai\n",
        "CC: sunny@ineuron.ai, riishav@ineuron.ai, boktiar@ineuron.ai\n",
        " \n",
        "Subject: [Bootcamp 2.0 | Assignment No. 1]: \n",
        "\n",
        "1. Find out all the types of error that we have encountered in our lecture and why? Also include the examples.\n",
        "2. Take input A and B and print their sum, mul, div, square of the nos.\n",
        "3. How many reserve keywords are there in python and why we should not use them as a variable name.\n",
        "4. Create email ids with the user inputs. in the following format - \n",
        "lastname.firstname@gmail.com\n",
        "5. Try to print the following lines - \n",
        "  - Hi I'm Sunny\n",
        "  - My address is 22\\3 \n",
        "  - I earn 20$ daily.\n",
        "6. Take user input (name, address, date of birth etc) to fill a form for your college and print their email IDs\n",
        "7. Convert the following - \n",
        "  - \"22.4\" into integer\n",
        "  - \"22\" into complex no.\n"
      ],
      "metadata": {
        "id": "ZDnPmMCIpdBt"
      }
    },
    {
      "cell_type": "markdown",
      "source": [
        "1.Find out all the types of error that we have encountered in our lecture and why? Also include the examples."
      ],
      "metadata": {
        "id": "DnHR4fAxc0Pv"
      }
    },
    {
      "cell_type": "code",
      "source": [
        "Print(\"Hi there!!\") #here we got NameError becuases of wrong function name got passed. \"print\" is right fuction which starts from small \"p\" and I passed \"Print\" which start from capital \"P\""
      ],
      "metadata": {
        "id": "2M8OTsUVpRg4",
        "colab": {
          "base_uri": "https://localhost:8080/",
          "height": 187
        },
        "outputId": "71d4c38e-a5e9-4546-8360-da87eaf1a608"
      },
      "execution_count": 2,
      "outputs": [
        {
          "output_type": "error",
          "ename": "NameError",
          "evalue": "ignored",
          "traceback": [
            "\u001b[0;31m---------------------------------------------------------------------------\u001b[0m",
            "\u001b[0;31mNameError\u001b[0m                                 Traceback (most recent call last)",
            "\u001b[0;32m<ipython-input-2-0755157b5d35>\u001b[0m in \u001b[0;36m<module>\u001b[0;34m\u001b[0m\n\u001b[0;32m----> 1\u001b[0;31m \u001b[0mPrint\u001b[0m\u001b[0;34m(\u001b[0m\u001b[0;34m\"Hi there!!\"\u001b[0m\u001b[0;34m)\u001b[0m \u001b[0;31m#here we got NameError becuases of wrong function name got passed. \"print\" is right fuction which starts from small \"p\" and I passed \"Print\" which start from capital \"P\"\u001b[0m\u001b[0;34m\u001b[0m\u001b[0;34m\u001b[0m\u001b[0m\n\u001b[0m",
            "\u001b[0;31mNameError\u001b[0m: name 'Print' is not defined"
          ]
        }
      ]
    },
    {
      "cell_type": "code",
      "source": [
        "print(\"Hi\n",
        "there!!\") # The SyntaxError: EOL while scanning string literal error in python occurs when while scanning a string of a program the python hit the end of the line due to the following reasons:\n",
        "\n",
        "Missing quotes\n",
        "Strings spanning multiple lines"
      ],
      "metadata": {
        "colab": {
          "base_uri": "https://localhost:8080/",
          "height": 133
        },
        "id": "vYY8Xu2Idc6S",
        "outputId": "9b26f5c2-c3f6-43ea-f20b-3bd7201a3fc6"
      },
      "execution_count": 3,
      "outputs": [
        {
          "output_type": "error",
          "ename": "SyntaxError",
          "evalue": "ignored",
          "traceback": [
            "\u001b[0;36m  File \u001b[0;32m\"<ipython-input-3-f4e568c732bb>\"\u001b[0;36m, line \u001b[0;32m1\u001b[0m\n\u001b[0;31m    print(\"Hi\u001b[0m\n\u001b[0m             ^\u001b[0m\n\u001b[0;31mSyntaxError\u001b[0m\u001b[0;31m:\u001b[0m EOL while scanning string literal\n"
          ]
        }
      ]
    },
    {
      "cell_type": "code",
      "source": [
        "print(\"This is \"Yogendra\" \") #this error encounted is here because I used quotes twice (define the str and as well as my name )"
      ],
      "metadata": {
        "colab": {
          "base_uri": "https://localhost:8080/",
          "height": 133
        },
        "id": "nWY6LuvoePk6",
        "outputId": "b7fe1071-3eed-49f5-ebff-36a5e7e71e58"
      },
      "execution_count": 4,
      "outputs": [
        {
          "output_type": "error",
          "ename": "SyntaxError",
          "evalue": "ignored",
          "traceback": [
            "\u001b[0;36m  File \u001b[0;32m\"<ipython-input-4-f10348821f23>\"\u001b[0;36m, line \u001b[0;32m1\u001b[0m\n\u001b[0;31m    print(\"This is \"Yogendra\" \") #this error encounted is here because I used quotes twice (define the str and as well as my name )\u001b[0m\n\u001b[0m                           ^\u001b[0m\n\u001b[0;31mSyntaxError\u001b[0m\u001b[0;31m:\u001b[0m invalid syntax\n"
          ]
        }
      ]
    },
    {
      "cell_type": "code",
      "source": [
        "\"Yogendra\" +5 # This error beause of concatenation is not possible b/w str and int \n"
      ],
      "metadata": {
        "colab": {
          "base_uri": "https://localhost:8080/",
          "height": 169
        },
        "id": "L1Q_2ko2fiCu",
        "outputId": "ad865a15-af76-458d-f0ed-46b8445d7e27"
      },
      "execution_count": 5,
      "outputs": [
        {
          "output_type": "error",
          "ename": "TypeError",
          "evalue": "ignored",
          "traceback": [
            "\u001b[0;31m---------------------------------------------------------------------------\u001b[0m",
            "\u001b[0;31mTypeError\u001b[0m                                 Traceback (most recent call last)",
            "\u001b[0;32m<ipython-input-5-bf2db7438453>\u001b[0m in \u001b[0;36m<module>\u001b[0;34m\u001b[0m\n\u001b[0;32m----> 1\u001b[0;31m \u001b[0;34m\"Yogendra\"\u001b[0m \u001b[0;34m+\u001b[0m\u001b[0;36m5\u001b[0m \u001b[0;31m# This error beause of concatenation is not possible b/w str and int\u001b[0m\u001b[0;34m\u001b[0m\u001b[0;34m\u001b[0m\u001b[0m\n\u001b[0m",
            "\u001b[0;31mTypeError\u001b[0m: can only concatenate str (not \"int\") to str"
          ]
        }
      ]
    },
    {
      "cell_type": "code",
      "source": [
        "print= \"Hi Ram!\""
      ],
      "metadata": {
        "id": "o8d9S7aRgnmf"
      },
      "execution_count": 6,
      "outputs": []
    },
    {
      "cell_type": "code",
      "source": [
        "print(print) # because of I used reserved keyword/func as a variable that we can not.."
      ],
      "metadata": {
        "colab": {
          "base_uri": "https://localhost:8080/",
          "height": 169
        },
        "id": "AkxoKxHwhTcs",
        "outputId": "eccf5848-b524-4327-9d35-37234c53cff6"
      },
      "execution_count": 7,
      "outputs": [
        {
          "output_type": "error",
          "ename": "TypeError",
          "evalue": "ignored",
          "traceback": [
            "\u001b[0;31m---------------------------------------------------------------------------\u001b[0m",
            "\u001b[0;31mTypeError\u001b[0m                                 Traceback (most recent call last)",
            "\u001b[0;32m<ipython-input-7-4b0897ea648d>\u001b[0m in \u001b[0;36m<module>\u001b[0;34m\u001b[0m\n\u001b[0;32m----> 1\u001b[0;31m \u001b[0mprint\u001b[0m\u001b[0;34m(\u001b[0m\u001b[0mprint\u001b[0m\u001b[0;34m)\u001b[0m \u001b[0;31m# because of I used reserved keyword/func as a variable that we can not..\u001b[0m\u001b[0;34m\u001b[0m\u001b[0;34m\u001b[0m\u001b[0m\n\u001b[0m",
            "\u001b[0;31mTypeError\u001b[0m: 'str' object is not callable"
          ]
        }
      ]
    },
    {
      "cell_type": "code",
      "source": [
        "name = input(\"Name: \") \n",
        "place = input(\"place: \")\n",
        "year_of_birth = input(\"year_of_birth: \")\n",
        "\n",
        "age = 2022 - year_of_birth\n",
        "\n",
        "print(f\"\"\"\n",
        "My name is: {name}\n",
        "I live at: {place}\n",
        "{name} is of age: {age}\n",
        "\"\"\") # this is because I tried to sub int from str."
      ],
      "metadata": {
        "colab": {
          "base_uri": "https://localhost:8080/",
          "height": 294
        },
        "id": "154kNitEhVjE",
        "outputId": "0504ee46-73c9-44be-94de-5e44bb204f91"
      },
      "execution_count": 8,
      "outputs": [
        {
          "name": "stdout",
          "output_type": "stream",
          "text": [
            "Name: Yogendra\n",
            "place: BLR\n",
            "year_of_birth: 1994\n"
          ]
        },
        {
          "output_type": "error",
          "ename": "TypeError",
          "evalue": "ignored",
          "traceback": [
            "\u001b[0;31m---------------------------------------------------------------------------\u001b[0m",
            "\u001b[0;31mTypeError\u001b[0m                                 Traceback (most recent call last)",
            "\u001b[0;32m<ipython-input-8-5b23b834a043>\u001b[0m in \u001b[0;36m<module>\u001b[0;34m\u001b[0m\n\u001b[1;32m      3\u001b[0m \u001b[0myear_of_birth\u001b[0m \u001b[0;34m=\u001b[0m \u001b[0minput\u001b[0m\u001b[0;34m(\u001b[0m\u001b[0;34m\"year_of_birth: \"\u001b[0m\u001b[0;34m)\u001b[0m\u001b[0;34m\u001b[0m\u001b[0;34m\u001b[0m\u001b[0m\n\u001b[1;32m      4\u001b[0m \u001b[0;34m\u001b[0m\u001b[0m\n\u001b[0;32m----> 5\u001b[0;31m \u001b[0mage\u001b[0m \u001b[0;34m=\u001b[0m \u001b[0;36m2022\u001b[0m \u001b[0;34m-\u001b[0m \u001b[0myear_of_birth\u001b[0m\u001b[0;34m\u001b[0m\u001b[0;34m\u001b[0m\u001b[0m\n\u001b[0m\u001b[1;32m      6\u001b[0m \u001b[0;34m\u001b[0m\u001b[0m\n\u001b[1;32m      7\u001b[0m print(f\"\"\"\n",
            "\u001b[0;31mTypeError\u001b[0m: unsupported operand type(s) for -: 'int' and 'str'"
          ]
        }
      ]
    },
    {
      "cell_type": "code",
      "source": [
        "del print"
      ],
      "metadata": {
        "id": "hIc8sH38laAG"
      },
      "execution_count": 9,
      "outputs": []
    },
    {
      "cell_type": "code",
      "source": [
        "a= \"22.33\"\n",
        "\n",
        "print(f\"convert str into int {type(int(a))}\") # This error is triggered in one of two cases:\n",
        "\n",
        "When passing a string containing anything that isn't a number to int(). Unfortunately, integer-type objects can't have any letters or special characters.\n",
        "When passing int() a string-type object which looks like a float-type (e.g., the string '22.33'). Although technically, this is an extension of the first error case, Python recognizes the special character .inside the string '22.33'."
      ],
      "metadata": {
        "colab": {
          "base_uri": "https://localhost:8080/",
          "height": 151
        },
        "id": "F16tgR1yh2NM",
        "outputId": "3808cf73-f78c-463b-a453-c6146efa25d9"
      },
      "execution_count": 10,
      "outputs": [
        {
          "output_type": "error",
          "ename": "SyntaxError",
          "evalue": "ignored",
          "traceback": [
            "\u001b[0;36m  File \u001b[0;32m\"<ipython-input-10-e6ce7ca4022d>\"\u001b[0;36m, line \u001b[0;32m5\u001b[0m\n\u001b[0;31m    When passing a string containing anything that isn't a number to int(). Unfortunately, integer-type objects can't have any letters or special characters.\u001b[0m\n\u001b[0m               ^\u001b[0m\n\u001b[0;31mSyntaxError\u001b[0m\u001b[0;31m:\u001b[0m invalid syntax\n"
          ]
        }
      ]
    },
    {
      "cell_type": "markdown",
      "source": [
        "2.Take input A and B and print their sum, mul, div, square of the nos."
      ],
      "metadata": {
        "id": "lFVwA4HJj37-"
      }
    },
    {
      "cell_type": "code",
      "source": [
        "A= int(input(\"enter first number: \"))\n",
        "B= int(input(\"enter second number: \"))\n",
        "\n",
        "print(type(A))\n",
        "print(f\"Sum of {A} and {B} is:{A+B}\")\n",
        "print(f\"Multiplication of {A} and {B} is:{A*B}\")\n",
        "print(f\"division of {A} and {B} is:{A/B}\")\n",
        "print(f\"Sqaure of {A} and {B} is:{A**B}\")"
      ],
      "metadata": {
        "colab": {
          "base_uri": "https://localhost:8080/"
        },
        "id": "D3zrdPpviqYO",
        "outputId": "00acba54-fe2c-40cb-f9d7-63ed9afdd323"
      },
      "execution_count": 11,
      "outputs": [
        {
          "output_type": "stream",
          "name": "stdout",
          "text": [
            "enter first number: 2\n",
            "enter second number: 2\n",
            "<class 'int'>\n",
            "Sum of 2 and 2 is:4\n",
            "Multiplication of 2 and 2 is:4\n",
            "division of 2 and 2 is:1.0\n",
            "Sqaure of 2 and 2 is:4\n"
          ]
        }
      ]
    },
    {
      "cell_type": "markdown",
      "source": [
        "3. How many reserve keywords are there in python and why we should not use them as a variable name."
      ],
      "metadata": {
        "id": "HVkIVSiBmSMy"
      }
    },
    {
      "cell_type": "markdown",
      "source": [
        "Ans: Reserved words in Python:-\n",
        "\n",
        "- for\n",
        "- while\n",
        "- and\n",
        "- or\n",
        "- True\n",
        "- False\n",
        "- print\n",
        "- if else elif\n",
        "- return\n",
        "- try except else finally raise\n",
        "- list\n",
        "- pass, continue,  break \n",
        "- global\n",
        "- yield\n",
        "- None , nonlocal\n",
        "- in\n",
        "- is\n",
        "- labda\n",
        "- from import as \n",
        "- Class\n",
        "- del\n",
        "- not\n",
        "- def \n",
        "\n",
        "There are 33 reserved keywords in Python. This means no object can have the same name as one of these keywords."
      ],
      "metadata": {
        "id": "M6vC0_2tmp3u"
      }
    },
    {
      "cell_type": "markdown",
      "source": [
        "4.Create email ids with the user inputs. in the following format - lastname.firstname@gmail.com"
      ],
      "metadata": {
        "id": "RiFTr7h9odpq"
      }
    },
    {
      "cell_type": "code",
      "source": [
        "first_name= input(\"enter your first name: \")\n",
        "last_name= input(\"enter your last name: \")\n",
        "print(f\"Your email address will be : {last_name}.{first_name}@gmail.com\")"
      ],
      "metadata": {
        "colab": {
          "base_uri": "https://localhost:8080/"
        },
        "id": "h495Hvftkoxl",
        "outputId": "0fa9a88a-79e7-460b-bf59-1a85bd63ab0f"
      },
      "execution_count": 12,
      "outputs": [
        {
          "output_type": "stream",
          "name": "stdout",
          "text": [
            "enter your first name: yogendra\n",
            "enter your last name: singh\n",
            "Your email address will be : singh.yogendra@gmail.com\n"
          ]
        }
      ]
    },
    {
      "cell_type": "markdown",
      "source": [
        "5.Try to print the following lines -\n",
        "Hi I'm Sunny\n",
        "My address is 22\\3\n",
        "I earn 20$ daily."
      ],
      "metadata": {
        "id": "zd8jTceapLwi"
      }
    },
    {
      "cell_type": "code",
      "source": [
        "print(\"\"\"Hi I'm Sunny\n",
        "My address is 22\\3\n",
        "I earn 20$ daily.\"\"\")"
      ],
      "metadata": {
        "colab": {
          "base_uri": "https://localhost:8080/"
        },
        "id": "SOGE0MnPpAjw",
        "outputId": "2b563ade-3e6a-48d9-d6b8-d6a471ac5fd5"
      },
      "execution_count": 13,
      "outputs": [
        {
          "output_type": "stream",
          "name": "stdout",
          "text": [
            "Hi I'm Sunny\n",
            "My address is 22\u0003\n",
            "I earn 20$ daily.\n"
          ]
        }
      ]
    },
    {
      "cell_type": "markdown",
      "source": [
        "6.Take user input (name, address, date of birth etc) to fill a form for your college and print their email IDs"
      ],
      "metadata": {
        "id": "OGu_T3ldpd_Y"
      }
    },
    {
      "cell_type": "code",
      "source": [
        "first_name= input(\"enter your first name: \")\n",
        "last_name= input(\"enter your last name: \")\n",
        "date_of_birth= input(\"enter your birth year: \")\n",
        "print(f\"Your email address will be : {last_name}.{first_name}{date_of_birth}@gmail.com\")"
      ],
      "metadata": {
        "colab": {
          "base_uri": "https://localhost:8080/"
        },
        "id": "kDJ5_NropUsC",
        "outputId": "8f3e452a-048b-4dff-e729-d439504f1530"
      },
      "execution_count": 14,
      "outputs": [
        {
          "output_type": "stream",
          "name": "stdout",
          "text": [
            "enter your first name: yogendra\n",
            "enter your last name: singh\n",
            "enter your birth year: 1994\n",
            "Your email address will be : singh.yogendra1994@gmail.com\n"
          ]
        }
      ]
    },
    {
      "cell_type": "markdown",
      "source": [
        "Convert the following -\n",
        "\"22.4\" into integer\n",
        "\"22\" into complex no."
      ],
      "metadata": {
        "id": "4IX6ry4Ap_Jl"
      }
    },
    {
      "cell_type": "code",
      "source": [
        "print(\"convert 22 into complex number: \", bool(22))"
      ],
      "metadata": {
        "colab": {
          "base_uri": "https://localhost:8080/"
        },
        "id": "bSzifVvhp20O",
        "outputId": "75902441-4e75-44a9-8ad5-ad6d8e6fb029"
      },
      "execution_count": 16,
      "outputs": [
        {
          "output_type": "stream",
          "name": "stdout",
          "text": [
            "convert 22 into complex number:  True\n"
          ]
        }
      ]
    },
    {
      "cell_type": "code",
      "source": [
        "print(\"convert 22.4 into integer: \", int(22.4))"
      ],
      "metadata": {
        "colab": {
          "base_uri": "https://localhost:8080/"
        },
        "id": "WtZIpIjIqmb0",
        "outputId": "c30cd648-069f-4685-af07-f7e06424e95f"
      },
      "execution_count": 17,
      "outputs": [
        {
          "output_type": "stream",
          "name": "stdout",
          "text": [
            "convert 22.4 into integer:  22\n"
          ]
        }
      ]
    },
    {
      "cell_type": "code",
      "source": [],
      "metadata": {
        "id": "ppljHpP3q9WE"
      },
      "execution_count": null,
      "outputs": []
    }
  ]
}