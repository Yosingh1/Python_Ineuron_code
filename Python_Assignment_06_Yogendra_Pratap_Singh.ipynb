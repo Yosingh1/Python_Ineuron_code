{
  "nbformat": 4,
  "nbformat_minor": 0,
  "metadata": {
    "colab": {
      "provenance": [],
      "authorship_tag": "ABX9TyPIGubGtTEW4XbkIM1wTHRH",
      "include_colab_link": true
    },
    "kernelspec": {
      "name": "python3",
      "display_name": "Python 3"
    },
    "language_info": {
      "name": "python"
    }
  },
  "cells": [
    {
      "cell_type": "markdown",
      "metadata": {
        "id": "view-in-github",
        "colab_type": "text"
      },
      "source": [
        "<a href=\"https://colab.research.google.com/github/Yosingh1/Python_Ineuron_code/blob/main/Python_Assignment_06_Yogendra_Pratap_Singh.ipynb\" target=\"_parent\"><img src=\"https://colab.research.google.com/assets/colab-badge.svg\" alt=\"Open In Colab\"/></a>"
      ]
    },
    {
      "cell_type": "markdown",
      "source": [
        "1.write a function which will try to find out len of a string without using an inbuilt len function\n",
        "\n",
        "2.write a function which will be able to print an index of list element without using an index function\n",
        "\n",
        "3.write a function which will be able to print an ip address of your system\n",
        "\n",
        "4.write a function which will shutdown your system\n",
        "\n",
        "5.write a function which will take input as a list with any kind of numeric value and give an out as a multiplication of all the numeric data l = [3.5, 6.56, 4,5,\"sudh\" , \"ineuron\" , 'fsda bootcamp 2.0']\n",
        "\n",
        "6.write a function which will be able to read all the mails 7 . write a function which will be able to send a mail to anyone\n",
        "\n",
        "7.write a function which will be able to read a doc/word file from your system\n",
        "\n",
        "you are suppose to complete this by oct 30th before your live class and you have to send a solution at mail id - query@ineuron.ai submit your git link to mail"
      ],
      "metadata": {
        "id": "jkhw0B_C8KyG"
      }
    },
    {
      "cell_type": "code",
      "source": [],
      "metadata": {
        "id": "1DYZkQTJ8ez3"
      },
      "execution_count": null,
      "outputs": []
    },
    {
      "cell_type": "markdown",
      "source": [
        "1.write a function which will try to find out len of a string without using an inbuilt len function"
      ],
      "metadata": {
        "id": "RFkEyleJ8pg4"
      }
    },
    {
      "cell_type": "code",
      "source": [
        "string= input(\"enter string to find the lenth: \")\n",
        "def lenght(string):\n",
        "  lenght=0\n",
        "  for i in string:\n",
        "    lenght=lenght+1\n",
        "  return lenght\n",
        "\n",
        "lenght(string)"
      ],
      "metadata": {
        "colab": {
          "base_uri": "https://localhost:8080/"
        },
        "id": "J0L47QgD8q8U",
        "outputId": "41022063-d297-4f17-9d7c-6f994d9afbc2"
      },
      "execution_count": 4,
      "outputs": [
        {
          "name": "stdout",
          "output_type": "stream",
          "text": [
            "enter string to find the lenth: Yogendra\n"
          ]
        },
        {
          "output_type": "execute_result",
          "data": {
            "text/plain": [
              "8"
            ]
          },
          "metadata": {},
          "execution_count": 4
        }
      ]
    },
    {
      "cell_type": "markdown",
      "source": [
        "2.write a function which will be able to print an index of list element without using an index function"
      ],
      "metadata": {
        "id": "nkYy-UxR-ISh"
      }
    },
    {
      "cell_type": "code",
      "source": [
        "lst= [10,2,3,4,5]\n",
        "def index_func(lst, x):\n",
        "  position_of_ele=[]\n",
        "  if x in lst:\n",
        "    for position, element in enumerate(lst):\n",
        "      if x==element:\n",
        "      # print(position)\n",
        "        position_of_ele.append(position)\n",
        "  return position_of_ele\n",
        "\n",
        "index_func(lst, 2) "
      ],
      "metadata": {
        "colab": {
          "base_uri": "https://localhost:8080/"
        },
        "id": "2MI0xy3I917n",
        "outputId": "7261ebd3-f54e-48e2-b439-36ff87de8c1f"
      },
      "execution_count": 17,
      "outputs": [
        {
          "output_type": "execute_result",
          "data": {
            "text/plain": [
              "[1]"
            ]
          },
          "metadata": {},
          "execution_count": 17
        }
      ]
    },
    {
      "cell_type": "markdown",
      "source": [
        "3.write a function which will be able to print an ip address of your system"
      ],
      "metadata": {
        "id": "qFYM6_yND8A0"
      }
    },
    {
      "cell_type": "code",
      "source": [
        "import socket \n",
        "def get_IP():  \n",
        "  hostname=socket.gethostname()   \n",
        "  IPAddr=socket.gethostbyname(hostname)    \n",
        "  print(\"Your Computer IP Address is:\"+IPAddr)  \n",
        "get_IP()"
      ],
      "metadata": {
        "id": "lc0ToKtk-ZQH"
      },
      "execution_count": null,
      "outputs": []
    },
    {
      "cell_type": "markdown",
      "source": [
        "4.write a function which will shutdown your system"
      ],
      "metadata": {
        "id": "QC8GvxS4EEWT"
      }
    },
    {
      "cell_type": "code",
      "source": [
        "import os\n",
        "shutdown = input(\"Do you wish to shutdown your computer ? (yes / no): \").lower()\n",
        "def shut_down_system(shutdown):\n",
        "  \"\"\"this func will turn off your system\"\"\"\n",
        "  if shutdown == 'no':\n",
        "    exit()\n",
        "  else:\n",
        "    os.system(\"shutdown /s /t 1\")\n"
      ],
      "metadata": {
        "colab": {
          "base_uri": "https://localhost:8080/"
        },
        "id": "7WA0ljdC_KyC",
        "outputId": "29ae992d-64ea-4bc5-8802-388732711274"
      },
      "execution_count": 45,
      "outputs": [
        {
          "name": "stdout",
          "output_type": "stream",
          "text": [
            "Do you wish to shutdown your computer ? (yes / no): no\n"
          ]
        }
      ]
    },
    {
      "cell_type": "markdown",
      "source": [
        "5.write a function which will take input as a list with any kind of numeric value and give an out as a multiplication of all the numeric data l = [3.5, 6.56, 4,5,\"sudh\" , \"ineuron\" , 'fsda bootcamp 2.0']"
      ],
      "metadata": {
        "id": "o81NadQME4Wl"
      }
    },
    {
      "cell_type": "code",
      "source": [
        "l = [3.5, 6.56, 4,5,\"sudh\" , \"ineuron\" , 'fsda bootcamp 2.0']\n",
        "\n",
        "def multplication_func(lst):\n",
        "  \"\"\"return the multiplication from given list for num values\"\"\"\n",
        "  final_result=1\n",
        "  for i in lst:\n",
        "    if type(i)== int or type(i)==float:\n",
        "      print(f\"this is numeric number: {i}\")\n",
        "      final_result=final_result*i\n",
        "    else:\n",
        "      continue\n",
        "  return final_result\n"
      ],
      "metadata": {
        "id": "B_v-atx0Enqf"
      },
      "execution_count": 42,
      "outputs": []
    },
    {
      "cell_type": "code",
      "source": [
        "multplication_func(l)"
      ],
      "metadata": {
        "colab": {
          "base_uri": "https://localhost:8080/"
        },
        "id": "EXT0wU4AFYL7",
        "outputId": "03dcc8c2-8e34-4204-8513-b7fc090a7f37"
      },
      "execution_count": 43,
      "outputs": [
        {
          "output_type": "stream",
          "name": "stdout",
          "text": [
            "this is numeric number: 3.5\n",
            "this is numeric number: 6.56\n",
            "this is numeric number: 4\n",
            "this is numeric number: 5\n"
          ]
        },
        {
          "output_type": "execute_result",
          "data": {
            "text/plain": [
              "459.19999999999993"
            ]
          },
          "metadata": {},
          "execution_count": 43
        }
      ]
    },
    {
      "cell_type": "markdown",
      "source": [
        "6.write a function which will be able to read all the mails 7 . write a function which will be able to send a mail to anyone"
      ],
      "metadata": {
        "id": "v66Rj9DwKhhm"
      }
    },
    {
      "cell_type": "code",
      "source": [
        "import smtplib\n",
        "import datetime as dt\n",
        "MY_EMAIL= \"xyz@gmail.com\"\n",
        "PASSWORD= \"xxxyyyy\"\n",
        "msg=\"\"\"Dear Sir, Please find today's assignment\"\"\"\n",
        "def emial(MY_EMAIL,PASSWORD, msg):\n",
        "  \"\"\"email func which takes email id, password and msg\"\"\"\n",
        "\n",
        "  with smtplib.SMTP(\"smtp.gmail.com\") as connection:# this is gmail hots..\n",
        "    connection.starttls() # for secure connection\n",
        "    connection.login(user=MY_EMAIL, password=PASSWORD) #user and pass needs to be passed in str\n",
        "    connection.sendmail(from_addr=MY_EMAIL, to_addrs=[MY_EMAIL,\"query@ineuron.ai \"], msg= f\"Subject: assignment\\n\\n {msg}\")\n"
      ],
      "metadata": {
        "id": "7FQ9KbVYFap5"
      },
      "execution_count": 47,
      "outputs": []
    },
    {
      "cell_type": "code",
      "source": [
        "emial(MY_EMAIL,PASSWORD, msg)"
      ],
      "metadata": {
        "id": "HqhvDn66KZjD"
      },
      "execution_count": 48,
      "outputs": []
    },
    {
      "cell_type": "markdown",
      "source": [
        "7.write a function which will be able to read a doc/word file from your system"
      ],
      "metadata": {
        "id": "DMCHRtN7MRNs"
      }
    },
    {
      "cell_type": "code",
      "source": [
        "def read_file(file):\n",
        "  with open(\"file\", \"r\") as file:\n",
        "    data= file.read()"
      ],
      "metadata": {
        "id": "vZ4HcfARL7iK"
      },
      "execution_count": 55,
      "outputs": []
    },
    {
      "cell_type": "code",
      "source": [],
      "metadata": {
        "id": "sgIRuRWSNKHS"
      },
      "execution_count": null,
      "outputs": []
    }
  ]
}