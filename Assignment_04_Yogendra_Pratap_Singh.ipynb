{
  "nbformat": 4,
  "nbformat_minor": 0,
  "metadata": {
    "colab": {
      "provenance": [],
      "collapsed_sections": [],
      "include_colab_link": true
    },
    "kernelspec": {
      "name": "python3",
      "display_name": "Python 3"
    },
    "language_info": {
      "name": "python"
    }
  },
  "cells": [
    {
      "cell_type": "markdown",
      "metadata": {
        "id": "view-in-github",
        "colab_type": "text"
      },
      "source": [
        "<a href=\"https://colab.research.google.com/github/Yosingh1/Python_Ineuron_code/blob/main/Assignment_04_Yogendra_Pratap_Singh.ipynb\" target=\"_parent\"><img src=\"https://colab.research.google.com/assets/colab-badge.svg\" alt=\"Open In Colab\"/></a>"
      ]
    },
    {
      "cell_type": "markdown",
      "source": [
        "# ASSIGNMENTS__04\n"
      ],
      "metadata": {
        "id": "dkGbTD94s6CD"
      }
    },
    {
      "cell_type": "markdown",
      "source": [
        "## control flow and conditional statements"
      ],
      "metadata": {
        "id": "n3FuI-mutNl6"
      }
    },
    {
      "cell_type": "markdown",
      "source": [
        "Q1. Find the largest number from the given list, use for loop.\n",
        "\n",
        "```\n",
        "numbers = [12, 75, 150, 180, 145, 525, 50]\n",
        "```"
      ],
      "metadata": {
        "id": "NCW2epdyuJ-a"
      }
    },
    {
      "cell_type": "code",
      "source": [
        "numbers = [12, 75, 150, 180, 145, 525, 50]\n",
        "max_= 0\n",
        "for i in numbers:\n",
        "  if i>max_:\n",
        "    max_= i\n",
        "print(f\"Largest number is: {max_}\")"
      ],
      "metadata": {
        "colab": {
          "base_uri": "https://localhost:8080/"
        },
        "id": "VYMjnkm3ADV1",
        "outputId": "7dde523a-51a6-4fe6-995a-b1f71875ba87"
      },
      "execution_count": null,
      "outputs": [
        {
          "output_type": "stream",
          "name": "stdout",
          "text": [
            "Largest number is: 525\n"
          ]
        }
      ]
    },
    {
      "cell_type": "markdown",
      "source": [
        "Q2. Print all the even number between (1, 12)."
      ],
      "metadata": {
        "id": "Qsg0i1fTwEQj"
      }
    },
    {
      "cell_type": "code",
      "source": [
        "for even_ in range(1,12):\n",
        "  if even_%2==0:\n",
        "    print(f\"even number are: {even_}\")"
      ],
      "metadata": {
        "colab": {
          "base_uri": "https://localhost:8080/"
        },
        "id": "azao5BD2Biq-",
        "outputId": "60362ee5-cd97-465b-f2e9-2f0678ad3e9c"
      },
      "execution_count": null,
      "outputs": [
        {
          "output_type": "stream",
          "name": "stdout",
          "text": [
            "even number are: 2\n",
            "even number are: 4\n",
            "even number are: 6\n",
            "even number are: 8\n",
            "even number are: 10\n"
          ]
        }
      ]
    },
    {
      "cell_type": "markdown",
      "source": [
        "Q3. Calculate the sum of all numbers from 1 to a given number\n",
        "    \n",
        "    Expected Output:\n",
        "\n",
        "    Enter number 10\n",
        "    \n",
        "    Sum is:  55\n"
      ],
      "metadata": {
        "id": "WG2QcDDhwi4a"
      }
    },
    {
      "cell_type": "code",
      "source": [
        "number= int(input(\"enter the numbers: \"))\n",
        "\n",
        "sum_=0\n",
        "for num in range(1, number+1):\n",
        "  sum_+=num\n",
        "print(f\"Sum: {sum_}\")\n"
      ],
      "metadata": {
        "colab": {
          "base_uri": "https://localhost:8080/"
        },
        "id": "rbA21ZELCeC6",
        "outputId": "dca8462c-eec4-4ddd-db1b-87ca816bc6ae"
      },
      "execution_count": null,
      "outputs": [
        {
          "output_type": "stream",
          "name": "stdout",
          "text": [
            "enter the numbers: 10\n",
            "Sum: 55\n"
          ]
        }
      ]
    },
    {
      "cell_type": "markdown",
      "source": [
        "Q4. Write a program to display only those numbers from a list that satisfy the following conditions\n",
        "\n",
        "- The number must be divisible by five\n",
        "\n",
        "- If the number is greater than 150, then skip it and move to the next number\n",
        "\n",
        "- If the number is greater than 500, then stop the loop"
      ],
      "metadata": {
        "id": "mc7lLUm5f4Cq"
      }
    },
    {
      "cell_type": "code",
      "source": [
        "# Given:\n",
        "\n",
        "numbers = [12, 75, 150, 180, 145, 525, 50]"
      ],
      "metadata": {
        "id": "P3Ct2ocKf6Hy"
      },
      "execution_count": null,
      "outputs": []
    },
    {
      "cell_type": "code",
      "source": [
        "numbers = [12, 75, 150, 180, 145, 525, 50]\n",
        "for num_ in numbers:\n",
        "  if num_%5==0:\n",
        "    if num_>500:\n",
        "      break\n",
        "    elif num_>150:\n",
        "      continue\n",
        "    else:\n",
        "      print(f\"Number: {num_}\")\n",
        "\n",
        "   "
      ],
      "metadata": {
        "colab": {
          "base_uri": "https://localhost:8080/"
        },
        "id": "pFo8_N00ETSp",
        "outputId": "54a38820-fa48-4c9b-ad41-43f0af9be71b"
      },
      "execution_count": null,
      "outputs": [
        {
          "output_type": "stream",
          "name": "stdout",
          "text": [
            "Number: 75\n",
            "Number: 150\n",
            "Number: 145\n"
          ]
        }
      ]
    },
    {
      "cell_type": "markdown",
      "source": [
        "Q5. Print the given list in reverse order.\n",
        "\n",
        "```\n",
        "list1 = [10, 20, 30, 40, 50]\n",
        "```"
      ],
      "metadata": {
        "id": "rrxWvy7nMnAs"
      }
    },
    {
      "cell_type": "code",
      "source": [
        "list1 = [10, 20, 30, 40, 50]\n",
        "print(f\"reverse order: {list1[::-1]}\")"
      ],
      "metadata": {
        "colab": {
          "base_uri": "https://localhost:8080/"
        },
        "id": "FB9pW5-EEBRc",
        "outputId": "b9f6fc76-00fd-46b7-c5a2-c9a8c2460770"
      },
      "execution_count": null,
      "outputs": [
        {
          "output_type": "stream",
          "name": "stdout",
          "text": [
            "reverse order: [50, 40, 30, 20, 10]\n"
          ]
        }
      ]
    },
    {
      "cell_type": "code",
      "source": [],
      "metadata": {
        "id": "z-GDgPn3Nr0y"
      },
      "execution_count": null,
      "outputs": []
    }
  ]
}