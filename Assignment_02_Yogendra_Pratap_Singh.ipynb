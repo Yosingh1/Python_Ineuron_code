{
  "nbformat": 4,
  "nbformat_minor": 0,
  "metadata": {
    "colab": {
      "provenance": [],
      "collapsed_sections": [],
      "authorship_tag": "ABX9TyN2BV1jASwNAFd7EdiCq9Hv",
      "include_colab_link": true
    },
    "kernelspec": {
      "name": "python3",
      "display_name": "Python 3"
    },
    "language_info": {
      "name": "python"
    }
  },
  "cells": [
    {
      "cell_type": "markdown",
      "metadata": {
        "id": "view-in-github",
        "colab_type": "text"
      },
      "source": [
        "<a href=\"https://colab.research.google.com/github/Yosingh1/Python_Ineuron_code/blob/main/Assignment_02_Yogendra_Pratap_Singh.ipynb\" target=\"_parent\"><img src=\"https://colab.research.google.com/assets/colab-badge.svg\" alt=\"Open In Colab\"/></a>"
      ]
    },
    {
      "cell_type": "markdown",
      "source": [
        "### Answer below questions on the above theory - \n",
        "\n",
        "7. Write a program that asks the user to enter a number. You should print out a message to the user, either “That number is divisible by either 3 or 5”, or “That number is not divisible by either 3 or 5”. Be sure to consider the data type of the input you are taking in from the user. Use a single if/else block to solve this problem.\n",
        "\n",
        "8. Take user input for length and width. Then calculate the area of rectangle. Also print as per length and width whether its a square of rectangle.\n",
        "\n",
        "9. Take two variable radius_1 and radius_2 and calculate the area of circle_1 and circle_2. Also print which circle has large area. If area is equal then print area is equal.\n",
        "\n",
        "10. Check whether a year is leap year or not. Use nested if...else to solve this problem. A leap year is exactly divisible by 4 except for century years (years ending with 00). The century year is a leap year only if it is perfectly divisible by 400."
      ],
      "metadata": {
        "id": "FIsAkuHuBY-4"
      }
    },
    {
      "cell_type": "code",
      "source": [],
      "metadata": {
        "id": "58zYXb3jXCUK"
      },
      "execution_count": null,
      "outputs": []
    },
    {
      "cell_type": "markdown",
      "source": [
        "1.Write a program that asks the user to enter a number. You should print out a message to the user, either “That number is divisible by either 3 or 5”, or “That number is not divisible by either 3 or 5”. Be sure to consider the data type of the input you are taking in from the user. Use a single if/else block to solve this problem."
      ],
      "metadata": {
        "id": "T8reBSi1BtBf"
      }
    },
    {
      "cell_type": "code",
      "source": [
        "num= int(input(\"enter the number: \"))\n",
        "if num%3==0 or num%5==0:\n",
        "  print(\"That number is divisible by either 3 or 5”\")\n",
        "else:\n",
        "  print(\"That number is not divisible by either 3 or 5\")"
      ],
      "metadata": {
        "colab": {
          "base_uri": "https://localhost:8080/"
        },
        "id": "9LFs5zJ6Bu90",
        "outputId": "d4bd89a3-633f-49bf-bdef-e8221a03d3ca"
      },
      "execution_count": null,
      "outputs": [
        {
          "output_type": "stream",
          "name": "stdout",
          "text": [
            "enter the number: 15\n",
            "That number is divisible by either 3 or 5”\n"
          ]
        }
      ]
    },
    {
      "cell_type": "code",
      "source": [],
      "metadata": {
        "id": "KQBOLZUlCfVG"
      },
      "execution_count": null,
      "outputs": []
    },
    {
      "cell_type": "markdown",
      "source": [
        "2.Take user input for length and width. Then calculate the area of rectangle. Also print as per length and width whether its a square of rectangle."
      ],
      "metadata": {
        "id": "wsvI_S3BD4qX"
      }
    },
    {
      "cell_type": "code",
      "source": [
        "length= float(input(\"enter the length\"))\n",
        "width_ = float(input(\"enter the width\"))\n",
        "\n",
        "Area= length*width_\n",
        "if length==width_:\n",
        "  print(\"It is a sqare\")\n",
        "else:\n",
        "  print(\"It is a rectangle\")\n",
        "print(Area)"
      ],
      "metadata": {
        "colab": {
          "base_uri": "https://localhost:8080/"
        },
        "id": "3M-sKrX5D6ws",
        "outputId": "f0315328-f9d5-4cf1-9fb9-0c3b46e79508"
      },
      "execution_count": null,
      "outputs": [
        {
          "output_type": "stream",
          "name": "stdout",
          "text": [
            "enter the length2\n",
            "enter the width3\n",
            "It is a rectangle\n",
            "6.0\n"
          ]
        }
      ]
    },
    {
      "cell_type": "code",
      "source": [],
      "metadata": {
        "id": "Do5hhob2Earn"
      },
      "execution_count": null,
      "outputs": []
    },
    {
      "cell_type": "markdown",
      "source": [
        "3.Take two variable radius_1 and radius_2 and calculate the area of circle_1 and circle_2. Also print which circle has large area. If area is equal then print area is equal."
      ],
      "metadata": {
        "id": "EaYG-1ZNF090"
      }
    },
    {
      "cell_type": "code",
      "source": [
        "radius_1= float(input(\"enter the radius of circle_1: \"))\n",
        "radius_2= float(input(\"enter the radius of circle_2: \"))\n",
        "circle_1= 3.14*(radius_1**2)\n",
        "circle_2= 3.14*(radius_2**2)\n",
        "if circle_1==circle_2:\n",
        "  print(\"Area is equal.\")\n",
        "elif circle_1>circle_2:\n",
        "  print(\"circle_1 is large\")\n",
        "else:\n",
        "  print(\"circle_2 is large\")\n"
      ],
      "metadata": {
        "colab": {
          "base_uri": "https://localhost:8080/"
        },
        "id": "Euh6dtQ-F3Xp",
        "outputId": "3216cdba-4443-4b43-dd87-1d7ee7d1321e"
      },
      "execution_count": null,
      "outputs": [
        {
          "output_type": "stream",
          "name": "stdout",
          "text": [
            "enter the radius of circle_1: 4\n",
            "enter the radius of circle_2: 7\n",
            "circle_2 is large\n"
          ]
        }
      ]
    },
    {
      "cell_type": "markdown",
      "source": [
        "4.Check whether a year is leap year or not. Use nested if...else to solve this problem. A leap year is exactly divisible by 4 except for century years (years ending with 00). The century year is a leap year only if it is perfectly divisible by 400."
      ],
      "metadata": {
        "id": "q-FjeJe8JCPz"
      }
    },
    {
      "cell_type": "code",
      "source": [
        "year= int(input(\"enter the year: \"))\n",
        "\n",
        "# divided by 100 means century year (ending with 00)\n",
        "# century year divided by 400 is leap year\n",
        "if (year % 400 == 0) and (year % 100 == 0):\n",
        "    print(f\"{year} is a leap year\")\n",
        "\n",
        "# not divided by 100 means not a century year\n",
        "# year divided by 4 is a leap year\n",
        "elif (year % 4 ==0) and (year % 100 != 0):\n",
        "    print(f\"{year} is a leap year\")\n",
        "\n",
        "# if not divided by both 400 (century year) and 4 (not century year)\n",
        "# year is not leap year\n",
        "else:\n",
        "    print(f\"{year} is not a leap year\")"
      ],
      "metadata": {
        "id": "R4TDkzPmHWq_",
        "colab": {
          "base_uri": "https://localhost:8080/"
        },
        "outputId": "b8752b79-982b-4e88-84e8-e0e7f1ca13ae"
      },
      "execution_count": 1,
      "outputs": [
        {
          "output_type": "stream",
          "name": "stdout",
          "text": [
            "enter the year: 2004\n",
            "2004 is a leap year\n"
          ]
        }
      ]
    },
    {
      "cell_type": "code",
      "source": [],
      "metadata": {
        "id": "0SIyt_p-0k5S"
      },
      "execution_count": 1,
      "outputs": []
    }
  ]
}